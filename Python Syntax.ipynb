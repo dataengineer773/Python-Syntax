{
 "cells": [
  {
   "cell_type": "markdown",
   "id": "23f1a174",
   "metadata": {},
   "source": [
    "# Resources for Learning:\n",
    "\n",
    " - realpython.com\n",
    " \n",
    " - kaggle.com\n",
    " \n",
    " some books"
   ]
  },
  {
   "cell_type": "markdown",
   "id": "4d638a5e",
   "metadata": {},
   "source": [
    "# Variable types\n",
    "\n",
    "- int\n",
    "- float\n",
    "- boolean\n",
    "- complex"
   ]
  },
  {
   "cell_type": "code",
   "execution_count": 3,
   "id": "0c949113",
   "metadata": {},
   "outputs": [
    {
     "name": "stdout",
     "output_type": "stream",
     "text": [
      "<class 'int'>\n",
      "<class 'float'>\n",
      "<class 'bool'>\n",
      "<class 'complex'>\n",
      "<class 'str'>\n",
      "<class 'list'>\n",
      "<class 'tuple'>\n",
      "<class 'set'>\n",
      "<class 'dict'>\n"
     ]
    }
   ],
   "source": [
    "# basic data type:\n",
    "print(type(1))\n",
    "print(type(3.14))\n",
    "print(type(True))\n",
    "print(type(2+3j))\n",
    "\n",
    "# data structures:\n",
    "print(type('amir'))\n",
    "print(type([1, 2, 3, 4]))\n",
    "print(type((1, 2, 3, 4)))\n",
    "print(type({1, 2, 3, 4}))\n",
    "print(type({1:2}))"
   ]
  },
  {
   "cell_type": "code",
   "execution_count": 4,
   "id": "65c688b4",
   "metadata": {},
   "outputs": [
    {
     "name": "stdout",
     "output_type": "stream",
     "text": [
      "1\n",
      "2\n"
     ]
    }
   ],
   "source": [
    "# case sensitive\n",
    "a = 1\n",
    "A = 2\n",
    "print(a)\n",
    "print(A)"
   ]
  },
  {
   "cell_type": "code",
   "execution_count": 5,
   "id": "1588da7c",
   "metadata": {},
   "outputs": [],
   "source": [
    "# do not start with number\n",
    "s2 = 1 # but not 2s"
   ]
  },
  {
   "cell_type": "markdown",
   "id": "061a5548",
   "metadata": {},
   "source": [
    "# Oprators\n",
    "\n",
    "- Arithmatic\n",
    "\n",
    "- Logical\n",
    "\n",
    "- Comparison\n",
    "\n",
    "- Hybrid"
   ]
  },
  {
   "cell_type": "code",
   "execution_count": 6,
   "id": "f1bbc398",
   "metadata": {},
   "outputs": [
    {
     "name": "stdout",
     "output_type": "stream",
     "text": [
      "7\n",
      "3\n",
      "10\n",
      "2.5\n",
      "2\n",
      "25\n",
      "1\n"
     ]
    }
   ],
   "source": [
    "print(5+2)\n",
    "print(5-2)\n",
    "print(5*2)\n",
    "print(5/2)\n",
    "print(5//2)\n",
    "print(5**2) # power\n",
    "print(5%2)"
   ]
  },
  {
   "cell_type": "code",
   "execution_count": 7,
   "id": "02804a72",
   "metadata": {},
   "outputs": [],
   "source": [
    "a = 4+3j\n",
    "b = 2-5j"
   ]
  },
  {
   "cell_type": "code",
   "execution_count": 9,
   "id": "873894d6",
   "metadata": {},
   "outputs": [
    {
     "data": {
      "text/plain": [
       "4.0"
      ]
     },
     "execution_count": 9,
     "metadata": {},
     "output_type": "execute_result"
    }
   ],
   "source": [
    "a.real"
   ]
  },
  {
   "cell_type": "code",
   "execution_count": 11,
   "id": "b41106e9",
   "metadata": {},
   "outputs": [
    {
     "data": {
      "text/plain": [
       "-5.0"
      ]
     },
     "execution_count": 11,
     "metadata": {},
     "output_type": "execute_result"
    }
   ],
   "source": [
    "b.imag"
   ]
  },
  {
   "cell_type": "code",
   "execution_count": 12,
   "id": "3c2b0893",
   "metadata": {},
   "outputs": [
    {
     "data": {
      "text/plain": [
       "(4-3j)"
      ]
     },
     "execution_count": 12,
     "metadata": {},
     "output_type": "execute_result"
    }
   ],
   "source": [
    "a.conjugate()"
   ]
  },
  {
   "cell_type": "code",
   "execution_count": 13,
   "id": "0a9b28a8",
   "metadata": {},
   "outputs": [
    {
     "data": {
      "text/plain": [
       "(6-2j)"
      ]
     },
     "execution_count": 13,
     "metadata": {},
     "output_type": "execute_result"
    }
   ],
   "source": [
    "a+b"
   ]
  },
  {
   "cell_type": "code",
   "execution_count": 14,
   "id": "4f3ebb0d",
   "metadata": {},
   "outputs": [
    {
     "data": {
      "text/plain": [
       "(23-14j)"
      ]
     },
     "execution_count": 14,
     "metadata": {},
     "output_type": "execute_result"
    }
   ],
   "source": [
    "a*b"
   ]
  },
  {
   "cell_type": "code",
   "execution_count": 15,
   "id": "003a2fe5",
   "metadata": {},
   "outputs": [
    {
     "name": "stdout",
     "output_type": "stream",
     "text": [
      "True\n",
      "False\n",
      "False\n",
      "False\n"
     ]
    }
   ],
   "source": [
    "print(True and True)\n",
    "print(True and False)\n",
    "print(False and True)\n",
    "print(False and False)"
   ]
  },
  {
   "cell_type": "code",
   "execution_count": 16,
   "id": "d6f72e34",
   "metadata": {},
   "outputs": [
    {
     "name": "stdout",
     "output_type": "stream",
     "text": [
      "True\n",
      "False\n",
      "False\n",
      "False\n"
     ]
    }
   ],
   "source": [
    "print(True & True)\n",
    "print(True & False)\n",
    "print(False & True)\n",
    "print(False & False)"
   ]
  },
  {
   "cell_type": "code",
   "execution_count": 17,
   "id": "6f92c4a4",
   "metadata": {},
   "outputs": [
    {
     "name": "stdout",
     "output_type": "stream",
     "text": [
      "True\n",
      "True\n",
      "True\n",
      "False\n"
     ]
    }
   ],
   "source": [
    "print(True or True)\n",
    "print(True or False)\n",
    "print(False or True)\n",
    "print(False or False)"
   ]
  },
  {
   "cell_type": "code",
   "execution_count": 18,
   "id": "ba851b30",
   "metadata": {},
   "outputs": [
    {
     "name": "stdout",
     "output_type": "stream",
     "text": [
      "True\n",
      "True\n",
      "True\n",
      "False\n"
     ]
    }
   ],
   "source": [
    "print(True | True)\n",
    "print(True | False)\n",
    "print(False | True)\n",
    "print(False | False)"
   ]
  },
  {
   "cell_type": "code",
   "execution_count": 19,
   "id": "15099acf",
   "metadata": {},
   "outputs": [
    {
     "name": "stdout",
     "output_type": "stream",
     "text": [
      "True\n",
      "False\n"
     ]
    }
   ],
   "source": [
    "print(not False)\n",
    "print(not True) "
   ]
  },
  {
   "cell_type": "code",
   "execution_count": 21,
   "id": "97c1a0d9",
   "metadata": {},
   "outputs": [
    {
     "name": "stdout",
     "output_type": "stream",
     "text": [
      "False\n",
      "True\n",
      "True\n",
      "False\n"
     ]
    }
   ],
   "source": [
    "print(True ^ True)\n",
    "print(True ^ False)\n",
    "print(False ^ True)\n",
    "print(False ^ False)"
   ]
  },
  {
   "cell_type": "code",
   "execution_count": 26,
   "id": "91a42a20",
   "metadata": {},
   "outputs": [
    {
     "name": "stdout",
     "output_type": "stream",
     "text": [
      "True\n",
      "True\n",
      "False\n",
      "False\n",
      "False\n",
      "True\n"
     ]
    }
   ],
   "source": [
    "print(2 < 5)\n",
    "print(2 <= 5)\n",
    "print(2 > 5)\n",
    "print(2 >= 5)\n",
    "print(2 == 5)\n",
    "print(2 != 5)"
   ]
  },
  {
   "cell_type": "code",
   "execution_count": null,
   "id": "13977c9b",
   "metadata": {},
   "outputs": [],
   "source": [
    "# a == 2 : comparison\n",
    "# a = 2: assignment"
   ]
  },
  {
   "cell_type": "code",
   "execution_count": 32,
   "id": "0c43538e",
   "metadata": {},
   "outputs": [
    {
     "name": "stdout",
     "output_type": "stream",
     "text": [
      "True\n"
     ]
    }
   ],
   "source": [
    "a = None\n",
    "print(a is None)"
   ]
  },
  {
   "cell_type": "code",
   "execution_count": 41,
   "id": "a9906f78",
   "metadata": {},
   "outputs": [
    {
     "name": "stdout",
     "output_type": "stream",
     "text": [
      "3\n",
      "4\n",
      "20\n",
      "10.0\n",
      "5.0\n",
      "1.0\n"
     ]
    }
   ],
   "source": [
    "a = 0\n",
    "\n",
    "a += 3 # a = a + 3\n",
    "print(a)\n",
    "\n",
    "a -= -1 # a = a - (-1)\n",
    "print(a)\n",
    "\n",
    "a *= 5 # a = a * 5\n",
    "print(a)\n",
    "\n",
    "a /= 2 # a = a / 2\n",
    "print(a)\n",
    "\n",
    "a //= 2 # a = a // 2\n",
    "print(a)\n",
    "\n",
    "a %= 2\n",
    "print(a)\n"
   ]
  },
  {
   "cell_type": "code",
   "execution_count": null,
   "id": "4ee8ede9",
   "metadata": {},
   "outputs": [],
   "source": []
  },
  {
   "cell_type": "code",
   "execution_count": null,
   "id": "0a9f51a7",
   "metadata": {},
   "outputs": [],
   "source": []
  },
  {
   "cell_type": "markdown",
   "id": "1a9381bb",
   "metadata": {},
   "source": [
    "# Condition block"
   ]
  },
  {
   "cell_type": "code",
   "execution_count": null,
   "id": "24b98804",
   "metadata": {},
   "outputs": [],
   "source": [
    "# if (condition1):\n",
    "    # commands\n",
    "    # commands\n",
    "    # commands\n",
    "# elif (condition2):\n",
    "    # commands\n",
    "    # commands\n",
    "    # commands\n",
    "# elif (condition3):\n",
    "    # commands\n",
    "    # commands\n",
    "    # commands\n",
    "# elif (condition4):\n",
    "    # .\n",
    "    # .\n",
    "    # .\n",
    "# else:\n",
    "    # commands\n",
    "    # commands\n",
    "    # commands"
   ]
  },
  {
   "cell_type": "code",
   "execution_count": null,
   "id": "2b4fba70",
   "metadata": {},
   "outputs": [],
   "source": []
  },
  {
   "cell_type": "markdown",
   "id": "9882dbca",
   "metadata": {},
   "source": [
    "# LOOP or Iterations"
   ]
  },
  {
   "cell_type": "code",
   "execution_count": 1,
   "id": "0607da52",
   "metadata": {},
   "outputs": [],
   "source": [
    "# for i in range(N):\n",
    "    #     commands\n",
    "    #     commands\n",
    "\n",
    "# while condition:\n",
    "    # commands\n",
    "    # commands"
   ]
  },
  {
   "cell_type": "code",
   "execution_count": null,
   "id": "de8706aa",
   "metadata": {},
   "outputs": [],
   "source": []
  },
  {
   "cell_type": "code",
   "execution_count": null,
   "id": "96068e0d",
   "metadata": {},
   "outputs": [],
   "source": []
  }
 ],
 "metadata": {
  "kernelspec": {
   "display_name": "Python 3 (ipykernel)",
   "language": "python",
   "name": "python3"
  },
  "language_info": {
   "codemirror_mode": {
    "name": "ipython",
    "version": 3
   },
   "file_extension": ".py",
   "mimetype": "text/x-python",
   "name": "python",
   "nbconvert_exporter": "python",
   "pygments_lexer": "ipython3",
   "version": "3.9.5"
  }
 },
 "nbformat": 4,
 "nbformat_minor": 5
}
